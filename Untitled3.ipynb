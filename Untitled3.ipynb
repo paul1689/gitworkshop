{
  "nbformat": 4,
  "nbformat_minor": 0,
  "metadata": {
    "colab": {
      "provenance": [],
      "authorship_tag": "ABX9TyPFx3MbMpM4ZZg8ClmOTPjY",
      "include_colab_link": true
    },
    "kernelspec": {
      "name": "python3",
      "display_name": "Python 3"
    },
    "language_info": {
      "name": "python"
    }
  },
  "cells": [
    {
      "cell_type": "markdown",
      "metadata": {
        "id": "view-in-github",
        "colab_type": "text"
      },
      "source": [
        "<a href=\"https://colab.research.google.com/github/paul1689/gitworkshop/blob/main/Untitled3.ipynb\" target=\"_parent\"><img src=\"https://colab.research.google.com/assets/colab-badge.svg\" alt=\"Open In Colab\"/></a>"
      ]
    },
    {
      "cell_type": "code",
      "execution_count": 8,
      "metadata": {
        "colab": {
          "base_uri": "https://localhost:8080/"
        },
        "id": "vseXTgt34nG4",
        "outputId": "d8b88356-8bcb-4d84-b26d-dd224ad4aa19"
      },
      "outputs": [
        {
          "output_type": "stream",
          "name": "stdout",
          "text": [
            "<class 'str'>\n"
          ]
        }
      ],
      "source": [
        "item1='ohine'\n",
        "print(type(item1))"
      ]
    },
    {
      "cell_type": "code",
      "source": [
        "from IPython.utils.py3compat import iteritems\n",
        "import csv\n",
        "\n",
        "class Item:\n",
        "\n",
        "\n",
        "\n",
        "  pay_rate = 0.8\n",
        "  def __init__(self , name: str , price: float , quantity,profit=0):\n",
        "    print(f\"an instance created : {name}\") #the f is important!!\n",
        "\n",
        "    assert price >=0, f\"Price {price} is not greater than or equal to zero!\"\n",
        "    assert quantity >=0, f\"Quantity {quantity} is not greater than or equal to zero\"\n",
        "    \n",
        "    self.name = name\n",
        "    self.price = price\n",
        "    self.quantity= quantity\n",
        "\n",
        "  def calculate_total_price(self,x,y):\n",
        "    return self.price * self.quantity\n",
        "  @classmethod\n",
        "  def instantiate_from_csv(cls):\n",
        "    with open('items.csv','r') as f:\n",
        "      reader = csv.DictReader(f)\n",
        "      items= list(reader)\n",
        "    for item in items:\n",
        "      print(item)\n",
        "\n",
        "Item.instantiate_from_csv()\n",
        "\n",
        "\n",
        "\n",
        "#item1=Item(\"phone\",19,5)\n",
        "#item1.name=\"phone\"\n",
        "#item1.price=19\n",
        "#item1.quantity=5\n",
        "#print(type(item1))"
      ],
      "metadata": {
        "colab": {
          "base_uri": "https://localhost:8080/",
          "height": 357
        },
        "id": "nA-TNavJ47Jm",
        "outputId": "9910832e-9120-44a9-d9c7-b1dfc3be524e"
      },
      "execution_count": 9,
      "outputs": [
        {
          "output_type": "error",
          "ename": "FileNotFoundError",
          "evalue": "ignored",
          "traceback": [
            "\u001b[0;31m---------------------------------------------------------------------------\u001b[0m",
            "\u001b[0;31mFileNotFoundError\u001b[0m                         Traceback (most recent call last)",
            "\u001b[0;32m<ipython-input-9-c733fe94ce73>\u001b[0m in \u001b[0;36m<module>\u001b[0;34m\u001b[0m\n\u001b[1;32m     27\u001b[0m       \u001b[0mprint\u001b[0m\u001b[0;34m(\u001b[0m\u001b[0mitem\u001b[0m\u001b[0;34m)\u001b[0m\u001b[0;34m\u001b[0m\u001b[0;34m\u001b[0m\u001b[0m\n\u001b[1;32m     28\u001b[0m \u001b[0;34m\u001b[0m\u001b[0m\n\u001b[0;32m---> 29\u001b[0;31m \u001b[0mItem\u001b[0m\u001b[0;34m.\u001b[0m\u001b[0minstantiate_from_csv\u001b[0m\u001b[0;34m(\u001b[0m\u001b[0;34m)\u001b[0m\u001b[0;34m\u001b[0m\u001b[0;34m\u001b[0m\u001b[0m\n\u001b[0m\u001b[1;32m     30\u001b[0m \u001b[0;34m\u001b[0m\u001b[0m\n\u001b[1;32m     31\u001b[0m \u001b[0;34m\u001b[0m\u001b[0m\n",
            "\u001b[0;32m<ipython-input-9-c733fe94ce73>\u001b[0m in \u001b[0;36minstantiate_from_csv\u001b[0;34m(cls)\u001b[0m\n\u001b[1;32m     21\u001b[0m   \u001b[0;34m@\u001b[0m\u001b[0mclassmethod\u001b[0m\u001b[0;34m\u001b[0m\u001b[0;34m\u001b[0m\u001b[0m\n\u001b[1;32m     22\u001b[0m   \u001b[0;32mdef\u001b[0m \u001b[0minstantiate_from_csv\u001b[0m\u001b[0;34m(\u001b[0m\u001b[0mcls\u001b[0m\u001b[0;34m)\u001b[0m\u001b[0;34m:\u001b[0m\u001b[0;34m\u001b[0m\u001b[0;34m\u001b[0m\u001b[0m\n\u001b[0;32m---> 23\u001b[0;31m     \u001b[0;32mwith\u001b[0m \u001b[0mopen\u001b[0m\u001b[0;34m(\u001b[0m\u001b[0;34m'items.csv'\u001b[0m\u001b[0;34m,\u001b[0m\u001b[0;34m'r'\u001b[0m\u001b[0;34m)\u001b[0m \u001b[0;32mas\u001b[0m \u001b[0mf\u001b[0m\u001b[0;34m:\u001b[0m\u001b[0;34m\u001b[0m\u001b[0;34m\u001b[0m\u001b[0m\n\u001b[0m\u001b[1;32m     24\u001b[0m       \u001b[0mreader\u001b[0m \u001b[0;34m=\u001b[0m \u001b[0mcsv\u001b[0m\u001b[0;34m.\u001b[0m\u001b[0mDictReader\u001b[0m\u001b[0;34m(\u001b[0m\u001b[0mf\u001b[0m\u001b[0;34m)\u001b[0m\u001b[0;34m\u001b[0m\u001b[0;34m\u001b[0m\u001b[0m\n\u001b[1;32m     25\u001b[0m       \u001b[0mitems\u001b[0m\u001b[0;34m=\u001b[0m \u001b[0mlist\u001b[0m\u001b[0;34m(\u001b[0m\u001b[0mreader\u001b[0m\u001b[0;34m)\u001b[0m\u001b[0;34m\u001b[0m\u001b[0;34m\u001b[0m\u001b[0m\n",
            "\u001b[0;31mFileNotFoundError\u001b[0m: [Errno 2] No such file or directory: 'items.csv'"
          ]
        }
      ]
    },
    {
      "cell_type": "code",
      "source": [
        "str=\"abd\"\n",
        "str.upper()\n"
      ],
      "metadata": {
        "id": "8nHrxbDj5i5W"
      },
      "execution_count": null,
      "outputs": []
    },
    {
      "cell_type": "code",
      "source": [
        "#item2=Item(\"laptop\",987,9)\n",
        "#item2.name=\"laptop\"\n",
        "#item2.price=987\n",
        "#item2.quantity=9\n"
      ],
      "metadata": {
        "id": "77RX9e3M5rJW"
      },
      "execution_count": null,
      "outputs": []
    },
    {
      "cell_type": "code",
      "source": [
        "#print(item1.calculate_total_price(item1.price, item1.quantity))\n",
        "#print(item2.calculate_total_price(item2.price, item2.quantity))\n"
      ],
      "metadata": {
        "id": "I8SKLzAl7G4b"
      },
      "execution_count": null,
      "outputs": []
    },
    {
      "cell_type": "code",
      "source": [
        "#print(item1.price)\n",
        "#print(item2.quantity)"
      ],
      "metadata": {
        "id": "PLroQWY27Ns8"
      },
      "execution_count": null,
      "outputs": []
    },
    {
      "cell_type": "code",
      "source": [
        "#item2.has_numpad = False\n",
        "#print(Item.pay_rate)\n",
        "#print(item1.pay_rate)\n",
        "#print(Item.__dict__)\n",
        "#print(item1.__dict__)"
      ],
      "metadata": {
        "id": "8QivfyP4_b0z"
      },
      "execution_count": null,
      "outputs": []
    },
    {
      "cell_type": "code",
      "source": [
        "item1=Item(\"Phone\",100,1)\n",
        "item2=Item(\"Laptop\",l000,3)\n",
        "item3=Item(\"mouse\",59,3)\n",
        "item4=Item(\"cat\"),67,7\n",
        "item5=Item(\"bow\",53,2)"
      ],
      "metadata": {
        "id": "NXd05aVfEmnJ"
      },
      "execution_count": null,
      "outputs": []
    }
  ]
}